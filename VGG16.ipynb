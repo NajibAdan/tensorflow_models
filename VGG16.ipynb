{
 "cells": [
  {
   "cell_type": "code",
   "execution_count": 2,
   "metadata": {},
   "outputs": [],
   "source": [
    "import tensorflow as tf \n",
    "from tensorflow.keras.models import Sequential\n",
    "from tensorflow.keras.layers import Input, Dense, Conv2D, MaxPool2D, Dropout\n",
    "from tensorflow.keras.losses import CategoricalCrossentropy\n",
    "from tensorflow.keras.optimizers import Adam"
   ]
  },
  {
   "cell_type": "code",
   "execution_count": 5,
   "metadata": {},
   "outputs": [
    {
     "name": "stderr",
     "output_type": "stream",
     "text": [
      "2023-03-19 17:14:03.432334: E tensorflow/compiler/xla/stream_executor/cuda/cuda_driver.cc:267] failed call to cuInit: CUDA_ERROR_UNKNOWN: unknown error\n",
      "2023-03-19 17:14:03.432364: I tensorflow/compiler/xla/stream_executor/cuda/cuda_diagnostics.cc:169] retrieving CUDA diagnostic information for host: gensokyo\n",
      "2023-03-19 17:14:03.432369: I tensorflow/compiler/xla/stream_executor/cuda/cuda_diagnostics.cc:176] hostname: gensokyo\n",
      "2023-03-19 17:14:03.432446: I tensorflow/compiler/xla/stream_executor/cuda/cuda_diagnostics.cc:200] libcuda reported version is: 470.161.3\n",
      "2023-03-19 17:14:03.432463: I tensorflow/compiler/xla/stream_executor/cuda/cuda_diagnostics.cc:204] kernel reported version is: 470.161.3\n",
      "2023-03-19 17:14:03.432467: I tensorflow/compiler/xla/stream_executor/cuda/cuda_diagnostics.cc:310] kernel version seems to match DSO: 470.161.3\n",
      "2023-03-19 17:14:03.432999: I tensorflow/core/platform/cpu_feature_guard.cc:193] This TensorFlow binary is optimized with oneAPI Deep Neural Network Library (oneDNN) to use the following CPU instructions in performance-critical operations:  AVX2 FMA\n",
      "To enable them in other operations, rebuild TensorFlow with the appropriate compiler flags.\n"
     ]
    }
   ],
   "source": [
    "model = Sequential([\n",
    "    Input(shape=(224,224,3)),\n",
    "    Conv2D(64,3,activation='ReLU',padding='same',strides=1),\n",
    "    Conv2D(64,3,activation='ReLU',padding='same',strides=1),\n",
    "    MaxPool2D((2,2),2),\n",
    "    Conv2D(128,3,activation='ReLU',padding='same',strides=1),\n",
    "    Conv2D(128,3,activation='ReLU',padding='same',strides=1),\n",
    "    MaxPool2D((2,2),2),\n",
    "    Conv2D(256,3,activation='ReLU',padding='same',strides=1),\n",
    "    Conv2D(256,3,activation='ReLU',padding='same',strides=1),\n",
    "    MaxPool2D((2,2),2),\n",
    "    Conv2D(512,3,activation='ReLU',padding='same',strides=1),\n",
    "    Conv2D(512,3,activation='ReLU',padding='same',strides=1),\n",
    "    MaxPool2D((2,2),2),\n",
    "    Conv2D(512,3,activation='ReLU',padding='same',strides=1),\n",
    "    Conv2D(512,3,activation='ReLU',padding='same',strides=1),\n",
    "    MaxPool2D((2,2),2),\n",
    "    Dense(4096,activation='ReLU'),\n",
    "    Dropout(0.5),\n",
    "    Dense(4096,activation='ReLU'),\n",
    "    Dropout(0.5),\n",
    "    Dense(1000,activation='softmax')\n",
    "])"
   ]
  }
 ],
 "metadata": {
  "kernelspec": {
   "display_name": "tf",
   "language": "python",
   "name": "python3"
  },
  "language_info": {
   "codemirror_mode": {
    "name": "ipython",
    "version": 3
   },
   "file_extension": ".py",
   "mimetype": "text/x-python",
   "name": "python",
   "nbconvert_exporter": "python",
   "pygments_lexer": "ipython3",
   "version": "3.9.15"
  },
  "orig_nbformat": 4
 },
 "nbformat": 4,
 "nbformat_minor": 2
}
